{
  "nbformat": 4,
  "nbformat_minor": 0,
  "metadata": {
    "colab": {
      "name": "SVM_implementation.ipynb",
      "provenance": []
    },
    "kernelspec": {
      "name": "python3",
      "display_name": "Python 3"
    },
    "language_info": {
      "name": "python"
    }
  },
  "cells": [
    {
      "cell_type": "code",
      "execution_count": 22,
      "metadata": {
        "id": "yRtPOX95ykh2"
      },
      "outputs": [],
      "source": [
        "#Importing required libraries\n",
        "import os\n",
        "import time\n",
        "import numpy as np\n",
        "import matplotlib.pyplot as plt\n",
        "import matplotlib as mpl\n",
        "%matplotlib inline\n",
        "from sklearn import svm"
      ]
    },
    {
      "cell_type": "code",
      "source": [
        "#Getting dataset\n",
        "!wget -c https://www.cs.toronto.edu/~kriz/cifar-10-python.tar.gz\n",
        "!tar -vxf cifar-10-python.tar.gz\n",
        "!rm cifar-10-python.tar.gz"
      ],
      "metadata": {
        "colab": {
          "base_uri": "https://localhost:8080/"
        },
        "id": "cWVDctdz2Vwn",
        "outputId": "679513f1-54c8-4e61-c9bd-c8a998dc5a1a"
      },
      "execution_count": 3,
      "outputs": [
        {
          "output_type": "stream",
          "name": "stdout",
          "text": [
            "--2022-05-06 10:48:57--  https://www.cs.toronto.edu/~kriz/cifar-10-python.tar.gz\n",
            "Resolving www.cs.toronto.edu (www.cs.toronto.edu)... 128.100.3.30\n",
            "Connecting to www.cs.toronto.edu (www.cs.toronto.edu)|128.100.3.30|:443... connected.\n",
            "HTTP request sent, awaiting response... 200 OK\n",
            "Length: 170498071 (163M) [application/x-gzip]\n",
            "Saving to: ‘cifar-10-python.tar.gz’\n",
            "\n",
            "cifar-10-python.tar 100%[===================>] 162.60M  97.7MB/s    in 1.7s    \n",
            "\n",
            "2022-05-06 10:48:59 (97.7 MB/s) - ‘cifar-10-python.tar.gz’ saved [170498071/170498071]\n",
            "\n",
            "cifar-10-batches-py/\n",
            "cifar-10-batches-py/data_batch_4\n",
            "cifar-10-batches-py/readme.html\n",
            "cifar-10-batches-py/test_batch\n",
            "cifar-10-batches-py/data_batch_3\n",
            "cifar-10-batches-py/batches.meta\n",
            "cifar-10-batches-py/data_batch_2\n",
            "cifar-10-batches-py/data_batch_5\n",
            "cifar-10-batches-py/data_batch_1\n"
          ]
        }
      ]
    },
    {
      "cell_type": "code",
      "source": [
        "#Function to unpickle dataset\n",
        "def unpickle(file):\n",
        "    import pickle\n",
        "    with open(file, 'rb') as fo:\n",
        "        dict = pickle.load(fo, encoding='bytes')\n",
        "    return dict\n",
        "\n",
        "#Loading data\n",
        "ROOT_PATH='./'  \n",
        "batch1 = unpickle(ROOT_PATH+\"cifar-10-batches-py/data_batch_1\")\n",
        "batch2 = unpickle(ROOT_PATH+\"cifar-10-batches-py/data_batch_2\")\n",
        "batch3 = unpickle(ROOT_PATH+\"cifar-10-batches-py/data_batch_3\")\n",
        "batch4 = unpickle(ROOT_PATH+\"cifar-10-batches-py/data_batch_4\")\n",
        "batch5 = unpickle(ROOT_PATH+\"cifar-10-batches-py/data_batch_5\")\n",
        "test_batch = unpickle(ROOT_PATH+\"cifar-10-batches-py/test_batch\")\n",
        "\n",
        "def load_data0(btch):\n",
        "    labels = btch[b'labels']\n",
        "    imgs = btch[b'data'].reshape((-1, 32, 32, 3))\n",
        "    \n",
        "    res = []\n",
        "    for ii in range(imgs.shape[0]):\n",
        "        img = imgs[ii].copy()\n",
        "        img = np.fliplr(np.rot90(np.transpose(img.flatten().reshape(3,32,32)), k=-1))\n",
        "        res.append(img)\n",
        "    imgs = np.stack(res)\n",
        "    return labels, imgs\n",
        "\n",
        "#Function to load dataset\n",
        "def load_data():\n",
        "    x_train_l = []\n",
        "    y_train_l = []\n",
        "    for ibatch in [batch1, batch2, batch3, batch4, batch5]:\n",
        "        labels, imgs = load_data0(ibatch)\n",
        "        x_train_l.append(imgs)\n",
        "        y_train_l.extend(labels)\n",
        "    x_train = np.vstack(x_train_l)\n",
        "    y_train = np.vstack(y_train_l)\n",
        "    \n",
        "    x_test_l = []\n",
        "    y_test_l = []\n",
        "    labels, imgs = load_data0(test_batch)\n",
        "    x_test_l.append(imgs)\n",
        "    y_test_l.extend(labels)\n",
        "    x_test = np.vstack(x_test_l)\n",
        "    y_test = np.vstack(y_test_l)\n",
        "    return (x_train, y_train), (x_test, y_test)\n",
        "\n",
        "(x_train, y_train), (x_test, y_test) = load_data()\n",
        "print('x_train shape:', x_train.shape)\n",
        "print(x_train.shape[0], 'train samples')\n",
        "print(x_test.shape[0], 'test samples')"
      ],
      "metadata": {
        "colab": {
          "base_uri": "https://localhost:8080/"
        },
        "id": "keZ0HDqp2an1",
        "outputId": "0ca085c0-6b11-44ad-a8cf-e596cf3e119e"
      },
      "execution_count": 4,
      "outputs": [
        {
          "output_type": "stream",
          "name": "stdout",
          "text": [
            "x_train shape: (50000, 32, 32, 3)\n",
            "50000 train samples\n",
            "10000 test samples\n"
          ]
        }
      ]
    },
    {
      "cell_type": "code",
      "source": [
        "classesName = ['plane', 'car', 'bird', 'cat', 'deer', 'dog', 'frog', 'horse', 'ship', 'truck']\n",
        "xVal = x_train[49000:, :].astype(np.float)\n",
        "yVal = np.squeeze(y_train[49000:, :])\n",
        "xTrain = x_train[:49000, :].astype(np.float)\n",
        "yTrain = np.squeeze(y_train[:49000, :])\n",
        "yTest = np.squeeze(y_test)\n",
        "xTest = x_test.astype(np.float)"
      ],
      "metadata": {
        "colab": {
          "base_uri": "https://localhost:8080/"
        },
        "id": "oV6BPZaK2bUC",
        "outputId": "1e62db47-eb36-4462-e0bc-3cc28423a10f"
      },
      "execution_count": 5,
      "outputs": [
        {
          "output_type": "stream",
          "name": "stderr",
          "text": [
            "/usr/local/lib/python3.7/dist-packages/ipykernel_launcher.py:2: DeprecationWarning: `np.float` is a deprecated alias for the builtin `float`. To silence this warning, use `float` by itself. Doing this will not modify any behavior and is safe. If you specifically wanted the numpy scalar type, use `np.float64` here.\n",
            "Deprecated in NumPy 1.20; for more details and guidance: https://numpy.org/devdocs/release/1.20.0-notes.html#deprecations\n",
            "  \n",
            "/usr/local/lib/python3.7/dist-packages/ipykernel_launcher.py:4: DeprecationWarning: `np.float` is a deprecated alias for the builtin `float`. To silence this warning, use `float` by itself. Doing this will not modify any behavior and is safe. If you specifically wanted the numpy scalar type, use `np.float64` here.\n",
            "Deprecated in NumPy 1.20; for more details and guidance: https://numpy.org/devdocs/release/1.20.0-notes.html#deprecations\n",
            "  after removing the cwd from sys.path.\n",
            "/usr/local/lib/python3.7/dist-packages/ipykernel_launcher.py:7: DeprecationWarning: `np.float` is a deprecated alias for the builtin `float`. To silence this warning, use `float` by itself. Doing this will not modify any behavior and is safe. If you specifically wanted the numpy scalar type, use `np.float64` here.\n",
            "Deprecated in NumPy 1.20; for more details and guidance: https://numpy.org/devdocs/release/1.20.0-notes.html#deprecations\n",
            "  import sys\n"
          ]
        }
      ]
    },
    {
      "cell_type": "code",
      "source": [
        "# Show dimension for each variable\n",
        "print ('Train image shape:    {0}'.format(xTrain.shape))\n",
        "print ('Train label shape:    {0}'.format(yTrain.shape))\n",
        "print ('Validate image shape: {0}'.format(xVal.shape))\n",
        "print ('Validate label shape: {0}'.format(yVal.shape))\n",
        "print ('Test image shape:     {0}'.format(xTest.shape))\n",
        "print ('Test label shape:     {0}'.format(yTest.shape))\n",
        "\n",
        "# Show some CIFAR10 images\n",
        "plt.subplot(221)\n",
        "plt.imshow((xTrain[0] * 255).astype(np.uint8))\n",
        "plt.axis('off')\n",
        "plt.title(classesName[yTrain[0]])\n",
        "plt.subplot(222)\n",
        "plt.imshow((xTrain[1] * 255).astype(np.uint8))\n",
        "plt.axis('off')\n",
        "plt.title(classesName[yTrain[1]])\n",
        "plt.subplot(223)\n",
        "plt.imshow((xVal[0] * 255).astype(np.uint8))\n",
        "plt.axis('off')\n",
        "plt.title(classesName[yVal[1]])\n",
        "plt.subplot(224)\n",
        "plt.imshow((xTest[0] * 255).astype(np.uint8))\n",
        "plt.axis('off')\n",
        "plt.title(classesName[yTest[0]])\n",
        "#plt.savefig(baseDir+'svm0.png')\n",
        "# plt.clf()\n",
        "plt.show()\n",
        "# print(xTrain[0])"
      ],
      "metadata": {
        "colab": {
          "base_uri": "https://localhost:8080/",
          "height": 370
        },
        "id": "k7pmR2E-4CKF",
        "outputId": "5d9ad8d4-6474-4ad1-e57f-fa9c74cf1e3d"
      },
      "execution_count": 6,
      "outputs": [
        {
          "output_type": "stream",
          "name": "stdout",
          "text": [
            "Train image shape:    (49000, 32, 32, 3)\n",
            "Train label shape:    (49000,)\n",
            "Validate image shape: (1000, 32, 32, 3)\n",
            "Validate label shape: (1000,)\n",
            "Test image shape:     (10000, 32, 32, 3)\n",
            "Test label shape:     (10000,)\n"
          ]
        },
        {
          "output_type": "display_data",
          "data": {
            "text/plain": [
              "<Figure size 432x288 with 4 Axes>"
            ],
            "image/png": "[encoded data removed]"
          },
          "metadata": {
            "needs_background": "light"
          }
        }
      ]
    },
    {
      "cell_type": "code",
      "source": [
        "print(xTrain.shape)\n",
        "print(yTrain.shape)\n",
        "xTrain = np.reshape(xTrain, (xTrain.shape[0], -1)) \n",
        "xVal = np.reshape(xVal, (xVal.shape[0], -1))\n",
        "xTest = np.reshape(xTest, (xTest.shape[0], -1))\n",
        "print(xTrain.shape) \n",
        "print(xTrain[0])\n",
        "\n",
        "#Normalize \n",
        "xTrain=((xTrain/255)*2)-1 \n",
        "print(xTrain.shape)\n",
        "print(xTrain[0])"
      ],
      "metadata": {
        "colab": {
          "base_uri": "https://localhost:8080/"
        },
        "id": "c3h12mtH62it",
        "outputId": "f179b682-ebcd-4f72-acb6-d54af609303e"
      },
      "execution_count": 7,
      "outputs": [
        {
          "output_type": "stream",
          "name": "stdout",
          "text": [
            "(49000, 32, 32, 3)\n",
            "(49000,)\n",
            "(49000, 3072)\n",
            "[ 59.  62.  63. ... 123.  92.  72.]\n",
            "(49000, 3072)\n",
            "[-0.5372549  -0.51372549 -0.50588235 ... -0.03529412 -0.27843137\n",
            " -0.43529412]\n"
          ]
        }
      ]
    },
    {
      "cell_type": "code",
      "source": [
        "#Choosing a smaller dataset\n",
        "xTrain=xTrain[:10000,:]\n",
        "yTrain=yTrain[:10000]\n",
        "print(yTrain)\n",
        "print(xTrain.shape)\n",
        "print(yTrain.shape)"
      ],
      "metadata": {
        "id": "Lkn6t7sH8j4_",
        "colab": {
          "base_uri": "https://localhost:8080/"
        },
        "outputId": "b9bde644-a0ee-43fd-d09f-2868fd54e030"
      },
      "execution_count": 8,
      "outputs": [
        {
          "output_type": "stream",
          "name": "stdout",
          "text": [
            "[6 9 9 ... 1 1 5]\n",
            "(10000, 3072)\n",
            "(10000,)\n"
          ]
        }
      ]
    },
    {
      "cell_type": "code",
      "source": [
        "#Defining Linear kernel function\n",
        "\n",
        "def svm_linear(c):\n",
        "    svc = svm.SVC(probability = False, kernel = 'linear', C = c)\n",
        "    \n",
        "    svc.fit(xTrain, yTrain) \n",
        "    \n",
        "    # Find the prediction and accuracy on the training set.\n",
        "    Yhat_svc_linear_train = svc.predict(xTrain)\n",
        "    acc_train = np.mean(Yhat_svc_linear_train == yTrain)\n",
        "    \n",
        "    # Find the prediction and accuracy on the test set.\n",
        "    Yhat_svc_linear_test = svc.predict(xVal)\n",
        "    acc_test = np.mean(Yhat_svc_linear_test == yVal)\n",
        "    \n",
        "    return acc_train,acc_test"
      ],
      "metadata": {
        "id": "nhBJSwMJ_dZX"
      },
      "execution_count": 9,
      "outputs": []
    },
    {
      "cell_type": "code",
      "source": [
        "#Calling Linear Kernel Function\n",
        "\n",
        "accuracy = []\n",
        "c = 0.09\n",
        "\n",
        "train_acc_l, test_acc_l = svm_linear(c)\n",
        "accuracy.append(train_acc_l)\n",
        "accuracy.append(test_acc_l)\n",
        "print('Train Accuracy for Linear Kernel = {0:f}'.format(train_acc_l))\n",
        "print('Test Accuracy for Linear Kernel = {0:f}'.format(test_acc_l)) \n"
      ],
      "metadata": {
        "id": "2xuLXU41_ib0",
        "colab": {
          "base_uri": "https://localhost:8080/"
        },
        "outputId": "1eec9a55-0a21-4628-daf5-4a5073e3cd04"
      },
      "execution_count": 10,
      "outputs": [
        {
          "output_type": "stream",
          "name": "stdout",
          "text": [
            "Train Accuracy for Linear Kernel = 0.778900\n",
            "Test Accuracy for Linear Kernel = 0.296000\n"
          ]
        }
      ]
    },
    {
      "cell_type": "code",
      "source": [
        "#Defining Polynomial function\n",
        "\n",
        "def svm_polynomial(c):\n",
        "\n",
        "    svc_polynomial = svm.SVC(probability = False, kernel = 'poly', C = c)\n",
        "    \n",
        "    svc_polynomial.fit(xTrain, yTrain) \n",
        "    \n",
        "    # Find the prediction and accuracy on the training set.\n",
        "    Yhat_svc_polynomial_train = svc_polynomial.predict(xTrain)\n",
        "    acc_train = np.mean(Yhat_svc_polynomial_train == yTrain)\n",
        "    \n",
        "    # Find the prediction and accuracy on the test set.\n",
        "    Yhat_svc_polynomial_test = svc_polynomial.predict(xVal)\n",
        "    acc_test = np.mean(Yhat_svc_polynomial_test == yVal)\n",
        "    \n",
        "    return acc_train,acc_test"
      ],
      "metadata": {
        "id": "XMzb2MceBaJf"
      },
      "execution_count": 11,
      "outputs": []
    },
    {
      "cell_type": "code",
      "source": [
        "#Calling Polynominal kernel function\n",
        "\n",
        "c = 1\n",
        "\n",
        "train_acc_poly,test_acc_poly = svm_polynomial(c)\n",
        "accuracy.append(train_acc_poly)\n",
        "accuracy.append(test_acc_poly)\n",
        "print('Train Accuracy for Polynomial Kernel = {0:f}'.format(train_acc_poly))\n",
        "print('Test Accuracy Polynomial Kernel= {0:f}'.format(test_acc_poly))\n"
      ],
      "metadata": {
        "id": "4HBD4YJQBbv-",
        "colab": {
          "base_uri": "https://localhost:8080/"
        },
        "outputId": "377fdd47-67e4-48a4-ee32-a1d9e3ab336a"
      },
      "execution_count": 12,
      "outputs": [
        {
          "output_type": "stream",
          "name": "stdout",
          "text": [
            "Train Accuracy for Polynomial Kernel = 0.715600\n",
            "Test Accuracy Polynomial Kernel= 0.260000\n"
          ]
        }
      ]
    },
    {
      "cell_type": "code",
      "source": [
        "plt.figure(figsize=(10, 6), dpi=80)\n",
        "plt.bar(tags,accuracy,align='center', width=0.3)\n",
        "\n",
        "# zip joins x and y coordinates in pairs\n",
        "for x,y in zip(tags,accuracy):\n",
        "\n",
        "    label = \"{:.2f}\".format(y)\n",
        "\n",
        "    plt.annotate(label, # this is the text\n",
        "                 (x,y), # these are the coordinates to position the label\n",
        "                 textcoords=\"offset points\", # how to position the text\n",
        "                 xytext=(0,5), # distance from text to points (x,y)\n",
        "                 ha='center') # horizontal alignment can be left, right or center\n",
        "\n",
        "plt.show()"
      ],
      "metadata": {
        "colab": {
          "base_uri": "https://localhost:8080/",
          "height": 413
        },
        "id": "WjwFOyi_L8gW",
        "outputId": "e98db7dc-0fd1-428c-bd82-27de5c72e0bf"
      },
      "execution_count": 25,
      "outputs": [
        {
          "output_type": "display_data",
          "data": {
            "text/plain": [
              "<Figure size 800x480 with 1 Axes>"
            ],
            "image/png": "[encoded data removed]"
          },
          "metadata": {
            "needs_background": "light"
          }
        }
      ]
    }
  ]
}